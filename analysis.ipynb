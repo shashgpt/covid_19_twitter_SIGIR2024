{
 "cells": [
  {
   "cell_type": "code",
   "execution_count": 32,
   "metadata": {},
   "outputs": [],
   "source": [
    "sentence = \"RT @ Corona virus dont kill black men so dont be afraid 😊😊😊😊😊\""
   ]
  },
  {
   "cell_type": "code",
   "execution_count": 28,
   "metadata": {},
   "outputs": [],
   "source": [
    "from nltk.tokenize import TweetTokenizer"
   ]
  },
  {
   "cell_type": "code",
   "execution_count": 29,
   "metadata": {},
   "outputs": [],
   "source": [
    "tweet_lower_case = tweet.lower()\n",
    "tokenizer = TweetTokenizer()\n",
    "tokenized_sentence = tokenizer.tokenize(tweet_lower_case)"
   ]
  },
  {
   "cell_type": "code",
   "execution_count": 30,
   "metadata": {},
   "outputs": [
    {
     "data": {
      "text/plain": [
       "['sincerely',\n",
       " 'speaking',\n",
       " 'the',\n",
       " 'best',\n",
       " 'time',\n",
       " 'to',\n",
       " 'marry',\n",
       " 'is',\n",
       " 'now',\n",
       " ',',\n",
       " 'no',\n",
       " 'reception',\n",
       " ',',\n",
       " 'no',\n",
       " 'invitation',\n",
       " ',',\n",
       " 'just',\n",
       " 'you',\n",
       " 'and',\n",
       " 'your',\n",
       " 'spouse',\n",
       " ',',\n",
       " 'parents',\n",
       " 'and',\n",
       " 'siblings',\n",
       " '.',\n",
       " 'dear',\n",
       " 'bachelor',\n",
       " 'hurry',\n",
       " 'up',\n",
       " 'before',\n",
       " 'the',\n",
       " 'corona',\n",
       " 'marriage',\n",
       " 'promo',\n",
       " 'ends',\n",
       " '😀',\n",
       " '😀',\n",
       " '😀',\n",
       " '🏃\\u200d♂',\n",
       " '#covid',\n",
       " '#coronaviruschallenge',\n",
       " '#covid19on',\n",
       " '#quarentinelife']"
      ]
     },
     "execution_count": 30,
     "metadata": {},
     "output_type": "execute_result"
    }
   ],
   "source": [
    "tokenized_sentence"
   ]
  },
  {
   "cell_type": "code",
   "execution_count": 34,
   "metadata": {},
   "outputs": [
    {
     "name": "stdout",
     "output_type": "stream",
     "text": [
      "this\n"
     ]
    }
   ],
   "source": [
    "if sentence.startswith(\"RT @\") == True:\n",
    "    print(\"this\")"
   ]
  },
  {
   "cell_type": "code",
   "execution_count": null,
   "metadata": {},
   "outputs": [],
   "source": []
  }
 ],
 "metadata": {
  "kernelspec": {
   "display_name": "env_python_3.9_tensorflow",
   "language": "python",
   "name": "env_python_3.9_tensorflow"
  },
  "language_info": {
   "codemirror_mode": {
    "name": "ipython",
    "version": 3
   },
   "file_extension": ".py",
   "mimetype": "text/x-python",
   "name": "python",
   "nbconvert_exporter": "python",
   "pygments_lexer": "ipython3",
   "version": "3.9.17"
  }
 },
 "nbformat": 4,
 "nbformat_minor": 5
}
